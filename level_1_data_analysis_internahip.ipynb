{
  "nbformat": 4,
  "nbformat_minor": 0,
  "metadata": {
    "colab": {
      "provenance": []
    },
    "kernelspec": {
      "name": "python3",
      "display_name": "Python 3"
    },
    "language_info": {
      "name": "python"
    }
  },
  "cells": [
    {
      "cell_type": "markdown",
      "source": [
        "LEVEL - 1"
      ],
      "metadata": {
        "id": "fPcAuLoBsZ8j"
      }
    },
    {
      "cell_type": "markdown",
      "source": [
        "TASK -1\n"
      ],
      "metadata": {
        "id": "Nh8jyjHYpMEU"
      }
    },
    {
      "cell_type": "code",
      "source": [
        "import pandas as pd\n",
        "import pandas as pd\n",
        "\n",
        "# Load dataset\n",
        "df = pd.read_csv(\"/content/Dataset .csv\")\n",
        "\n",
        "# Count top cuisines\n",
        "top_cuisines = df['Cuisines'].value_counts().head(3)\n",
        "\n",
        "# Calculate percentages\n",
        "total_restaurants = len(df)\n",
        "cuisine_percentages = (top_cuisines / total_restaurants) * 100\n",
        "\n",
        "print(\"Top Cuisines:\\n\", top_cuisines)\n",
        "print(\"Cuisine Percentages:\\n\", cuisine_percentages)\n",
        "top_cuisines = df['Cuisines'].value_counts().head(3)\n",
        "\n",
        "# Calculate percentages\n",
        "total_restaurants = len(df)\n",
        "cuisine_percentages = (top_cuisines / total_restaurants) * 100\n",
        "\n",
        "print(\"Top Cuisines:\\n\", top_cuisines)\n",
        "print(\"Cuisine Percentages:\\n\", cuisine_percentages)\n"
      ],
      "metadata": {
        "colab": {
          "base_uri": "https://localhost:8080/"
        },
        "id": "P7OwbqzxnoIV",
        "outputId": "116fcac0-e60f-4fd1-8a42-fec8d67ce9f3"
      },
      "execution_count": 3,
      "outputs": [
        {
          "output_type": "stream",
          "name": "stdout",
          "text": [
            "Top Cuisines:\n",
            " Cuisines\n",
            "North Indian             936\n",
            "North Indian, Chinese    511\n",
            "Chinese                  354\n",
            "Name: count, dtype: int64\n",
            "Cuisine Percentages:\n",
            " Cuisines\n",
            "North Indian             9.800021\n",
            "North Indian, Chinese    5.350225\n",
            "Chinese                  3.706418\n",
            "Name: count, dtype: float64\n",
            "Top Cuisines:\n",
            " Cuisines\n",
            "North Indian             936\n",
            "North Indian, Chinese    511\n",
            "Chinese                  354\n",
            "Name: count, dtype: int64\n",
            "Cuisine Percentages:\n",
            " Cuisines\n",
            "North Indian             9.800021\n",
            "North Indian, Chinese    5.350225\n",
            "Chinese                  3.706418\n",
            "Name: count, dtype: float64\n"
          ]
        }
      ]
    },
    {
      "cell_type": "code",
      "source": [],
      "metadata": {
        "id": "Fp6EeIyPnpl1"
      },
      "execution_count": null,
      "outputs": []
    },
    {
      "cell_type": "markdown",
      "source": [
        "TASK -2"
      ],
      "metadata": {
        "id": "mEw6skXrpRCC"
      }
    },
    {
      "cell_type": "code",
      "source": [
        "# Identify city with the highest number of restaurants\n",
        "city_counts = df['City'].value_counts()\n",
        "top_city = city_counts.idxmax()\n",
        "\n",
        "# Calculate average ratings per city\n",
        "city_avg_rating = df.groupby('City')['Aggregate rating'].mean()\n",
        "\n",
        "# Identify city with highest average rating\n",
        "top_avg_rating_city = city_avg_rating.idxmax()\n",
        "\n",
        "print(f\"City with most restaurants: {top_city}\")\n",
        "print(f\"City with highest average rating: {top_avg_rating_city}\")\n"
      ],
      "metadata": {
        "colab": {
          "base_uri": "https://localhost:8080/"
        },
        "id": "e2Pf69oopTbI",
        "outputId": "d5c60a6c-5c72-4df5-eb7c-7b2549e6bfa4"
      },
      "execution_count": 4,
      "outputs": [
        {
          "output_type": "stream",
          "name": "stdout",
          "text": [
            "City with most restaurants: New Delhi\n",
            "City with highest average rating: Inner City\n"
          ]
        }
      ]
    },
    {
      "cell_type": "code",
      "source": [],
      "metadata": {
        "id": "gxLXYYc9pXOb"
      },
      "execution_count": null,
      "outputs": []
    },
    {
      "cell_type": "markdown",
      "source": [],
      "metadata": {
        "id": "CXwdNi5upccR"
      }
    },
    {
      "cell_type": "markdown",
      "source": [
        "TASK -3"
      ],
      "metadata": {
        "id": "5vwsPsSbpa4F"
      }
    },
    {
      "cell_type": "code",
      "source": [
        "import matplotlib.pyplot as plt\n",
        "import seaborn as sns\n",
        "\n",
        "# Plot price range distribution\n",
        "sns.histplot(df['Price range'], bins=10, kde=True)\n",
        "plt.xlabel(\"Price Range\")\n",
        "plt.ylabel(\"Number of Restaurants\")\n",
        "plt.title(\"Price Range Distribution\")\n",
        "plt.show()\n",
        "\n",
        "# Calculate percentage of restaurants in each price range\n",
        "price_range_counts = df['Price range'].value_counts(normalize=True) * 100\n",
        "print(price_range_counts)\n"
      ],
      "metadata": {
        "colab": {
          "base_uri": "https://localhost:8080/",
          "height": 581
        },
        "id": "wGIb2Y9rpdbC",
        "outputId": "0ea403db-f264-453f-fb20-f00e014dd980"
      },
      "execution_count": 5,
      "outputs": [
        {
          "output_type": "display_data",
          "data": {
            "text/plain": [
              "<Figure size 640x480 with 1 Axes>"
            ],
            "image/png": "[encoded data removed]"
          },
          "metadata": {}
        },
        {
          "output_type": "stream",
          "name": "stdout",
          "text": [
            "Price range\n",
            "1    46.529159\n",
            "2    32.593446\n",
            "3    14.741912\n",
            "4     6.135483\n",
            "Name: proportion, dtype: float64\n"
          ]
        }
      ]
    },
    {
      "cell_type": "code",
      "source": [],
      "metadata": {
        "id": "-9O0GWvppgde"
      },
      "execution_count": null,
      "outputs": []
    },
    {
      "cell_type": "markdown",
      "source": [
        "TASK - 4"
      ],
      "metadata": {
        "id": "OD1lJO77p1ep"
      }
    },
    {
      "cell_type": "code",
      "source": [
        "# Percentage of restaurants with online delivery\n",
        "online_delivery_pct = df['Has Online delivery'].value_counts(normalize=True) * 100\n",
        "\n",
        "# Compare ratings\n",
        "avg_ratings_delivery = df.groupby('Has Online delivery')['Aggregate rating'].mean()\n",
        "\n",
        "print(\"Online Delivery Percentage:\\n\", online_delivery_pct)\n",
        "print(\"Average Ratings Comparison:\\n\", avg_ratings_delivery)\n"
      ],
      "metadata": {
        "colab": {
          "base_uri": "https://localhost:8080/"
        },
        "id": "NRWWbiWMp5Pk",
        "outputId": "d44f41cd-5bb4-404d-f9ba-34afd1e6ad75"
      },
      "execution_count": 6,
      "outputs": [
        {
          "output_type": "stream",
          "name": "stdout",
          "text": [
            "Online Delivery Percentage:\n",
            " Has Online delivery\n",
            "No     74.337766\n",
            "Yes    25.662234\n",
            "Name: proportion, dtype: float64\n",
            "Average Ratings Comparison:\n",
            " Has Online delivery\n",
            "No     2.465296\n",
            "Yes    3.248837\n",
            "Name: Aggregate rating, dtype: float64\n"
          ]
        }
      ]
    },
    {
      "cell_type": "code",
      "source": [],
      "metadata": {
        "id": "iYhzyL0xp7kp"
      },
      "execution_count": null,
      "outputs": []
    },
    {
      "cell_type": "markdown",
      "source": [
        "**LEVEL 2**"
      ],
      "metadata": {
        "id": "Ve4AWjpnqBus"
      }
    },
    {
      "cell_type": "markdown",
      "source": [
        "TASK -1"
      ],
      "metadata": {
        "id": "Fr4F4bn_qcr0"
      }
    },
    {
      "cell_type": "code",
      "source": [
        "# Analyzing rating distribution\n",
        "sns.histplot(df['Aggregate rating'], bins=10, kde=True)\n",
        "plt.xlabel(\"Rating\")\n",
        "plt.ylabel(\"Number of Restaurants\")\n",
        "plt.title(\"Restaurant Ratings Distribution\")\n",
        "plt.show()\n"
      ],
      "metadata": {
        "colab": {
          "base_uri": "https://localhost:8080/",
          "height": 472
        },
        "id": "tz-6o75BqVnt",
        "outputId": "9541a79b-0976-48b5-e7c3-eed5be4baf22"
      },
      "execution_count": 7,
      "outputs": [
        {
          "output_type": "display_data",
          "data": {
            "text/plain": [
              "<Figure size 640x480 with 1 Axes>"
            ],
            "image/png": "[encoded data removed]"
          },
          "metadata": {}
        }
      ]
    },
    {
      "cell_type": "markdown",
      "source": [
        "TASK - 2"
      ],
      "metadata": {
        "id": "bLcBomfMqfLe"
      }
    },
    {
      "cell_type": "code",
      "source": [
        "from itertools import combinations\n",
        "from collections import Counter\n",
        "\n",
        "# Split cuisine combinations\n",
        "cuisine_combinations = df['Cuisines'].dropna().str.split(', ')\n",
        "\n",
        "# Count most common pairs\n",
        "pair_counts = Counter([tuple(sorted(pair)) for cuisines in cuisine_combinations for pair in combinations(cuisines, 2)])\n",
        "top_combinations = pair_counts.most_common(5)\n",
        "\n",
        "print(\"Top Cuisine Combinations:\", top_combinations)\n"
      ],
      "metadata": {
        "colab": {
          "base_uri": "https://localhost:8080/"
        },
        "id": "YtoSbKE9qZba",
        "outputId": "64360699-f6d3-40ed-b344-5c40c9c388a0"
      },
      "execution_count": 8,
      "outputs": [
        {
          "output_type": "stream",
          "name": "stdout",
          "text": [
            "Top Cuisine Combinations: [(('Chinese', 'North Indian'), 1784), (('Mughlai', 'North Indian'), 832), (('Fast Food', 'North Indian'), 485), (('Continental', 'North Indian'), 468), (('Chinese', 'Fast Food'), 466)]\n"
          ]
        }
      ]
    },
    {
      "cell_type": "code",
      "source": [],
      "metadata": {
        "id": "YVKWUSatqlIe"
      },
      "execution_count": null,
      "outputs": []
    },
    {
      "cell_type": "markdown",
      "source": [
        "TASK - 3"
      ],
      "metadata": {
        "id": "2IjIL9boqoFf"
      }
    },
    {
      "cell_type": "code",
      "source": [
        "import folium\n",
        "\n",
        "# Create map centered at an average location\n",
        "m = folium.Map(location=[df['Latitude'].mean(), df['Longitude'].mean()], zoom_start=10)\n",
        "\n",
        "# Add restaurants to the map\n",
        "for _, row in df.iterrows():\n",
        "    folium.Marker([row['Latitude'], row['Longitude']], popup=row['Restaurant Name']).add_to(m)\n",
        "\n",
        "m.save(\"restaurant_map.html\")\n",
        "print(\"Map saved as restaurant_map.html\")\n"
      ],
      "metadata": {
        "colab": {
          "base_uri": "https://localhost:8080/"
        },
        "id": "ZlD7tdB-qqy2",
        "outputId": "1afe69ac-38a5-4b09-b6f9-0587f07e1798"
      },
      "execution_count": 9,
      "outputs": [
        {
          "output_type": "stream",
          "name": "stdout",
          "text": [
            "Map saved as restaurant_map.html\n"
          ]
        }
      ]
    },
    {
      "cell_type": "code",
      "source": [],
      "metadata": {
        "id": "IrK2wh3FqtZf"
      },
      "execution_count": null,
      "outputs": []
    },
    {
      "cell_type": "markdown",
      "source": [
        "TASK -4"
      ],
      "metadata": {
        "id": "mCDses80q1rT"
      }
    },
    {
      "cell_type": "code",
      "source": [
        "# Identify restaurant chains\n",
        "chain_counts = df['Restaurant Name'].value_counts()\n",
        "popular_chains = chain_counts[chain_counts > 5]  # Chains with more than 5 restaurants\n",
        "\n",
        "# Analyze ratings for chains\n",
        "chain_avg_rating = df[df['Restaurant Name'].isin(popular_chains.index)].groupby('Restaurant Name')['Aggregate rating'].mean()\n",
        "\n",
        "print(\"Popular Restaurant Chains:\\n\", popular_chains)\n",
        "print(\"Chain Average Ratings:\\n\", chain_avg_rating)\n"
      ],
      "metadata": {
        "colab": {
          "base_uri": "https://localhost:8080/"
        },
        "id": "XNrJQhz4q6MH",
        "outputId": "71a8d5f5-5fa3-407f-a8e4-584b82c6ce16"
      },
      "execution_count": 10,
      "outputs": [
        {
          "output_type": "stream",
          "name": "stdout",
          "text": [
            "Popular Restaurant Chains:\n",
            " Restaurant Name\n",
            "Cafe Coffee Day     83\n",
            "Domino's Pizza      79\n",
            "Subway              63\n",
            "Green Chick Chop    51\n",
            "McDonald's          48\n",
            "                    ..\n",
            "Wrapss               6\n",
            "TGI Friday's         6\n",
            "Mainland China       6\n",
            "Punjabi Rasoi        6\n",
            "Southy               6\n",
            "Name: count, Length: 84, dtype: int64\n",
            "Chain Average Ratings:\n",
            " Restaurant Name\n",
            "34, Chowringhee Lane    2.791667\n",
            "Aggarwal Sweets         0.792857\n",
            "Al Bake                 2.950000\n",
            "Angels in my Kitchen    3.412500\n",
            "Apni Rasoi              1.941667\n",
            "                          ...   \n",
            "Twenty Four Seven       2.147368\n",
            "Wah Ji Wah              2.342105\n",
            "Wow! Momo               2.754545\n",
            "Wrapss                  2.566667\n",
            "Yo! China               2.988889\n",
            "Name: Aggregate rating, Length: 84, dtype: float64\n"
          ]
        }
      ]
    },
    {
      "cell_type": "code",
      "source": [],
      "metadata": {
        "id": "KQZrdCaeq7rT"
      },
      "execution_count": null,
      "outputs": []
    }
  ]
}